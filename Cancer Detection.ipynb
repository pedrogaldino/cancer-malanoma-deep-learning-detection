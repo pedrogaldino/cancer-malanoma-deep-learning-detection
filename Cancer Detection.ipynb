{
 "cells": [
  {
   "cell_type": "code",
   "execution_count": 6,
   "metadata": {},
   "outputs": [
    {
     "name": "stdout",
     "output_type": "stream",
     "text": [
      "Found 1142 images belonging to 2 classes.\n",
      "Found 98 images belonging to 2 classes.\n"
     ]
    }
   ],
   "source": [
    "from keras.preprocessing.image import ImageDataGenerator\n",
    "\n",
    "train_datagen = ImageDataGenerator(rescale=1./255, shear_range=0.2, zoom_range=0.2, horizontal_flip=True)\n",
    "\n",
    "test_datagen = ImageDataGenerator(rescale=1./255)\n",
    "\n",
    "training_set = train_datagen.flow_from_directory('data/train', target_size=(32, 32), batch_size=10, class_mode='binary')\n",
    "    \n",
    "test_set = test_datagen.flow_from_directory('data/test', target_size=(32, 32), batch_size=32, class_mode='binary')"
   ]
  },
  {
   "cell_type": "code",
   "execution_count": 7,
   "metadata": {},
   "outputs": [
    {
     "name": "stderr",
     "output_type": "stream",
     "text": [
      "/usr/local/lib/python3.7/site-packages/ipykernel_launcher.py:8: UserWarning: Update your `Conv2D` call to the Keras 2 API: `Conv2D(32, (3, 3), input_shape=(32, 32, 3..., activation=\"relu\")`\n",
      "  \n",
      "/usr/local/lib/python3.7/site-packages/ipykernel_launcher.py:11: UserWarning: Update your `Dense` call to the Keras 2 API: `Dense(activation=\"relu\", units=128)`\n",
      "  # This is added back by InteractiveShellApp.init_path()\n",
      "/usr/local/lib/python3.7/site-packages/ipykernel_launcher.py:12: UserWarning: Update your `Dense` call to the Keras 2 API: `Dense(activation=\"sigmoid\", units=1)`\n",
      "  if sys.path[0] == '':\n"
     ]
    }
   ],
   "source": [
    "from keras.models import Sequential\n",
    "from keras.layers import Convolution2D\n",
    "from keras.layers import MaxPooling2D\n",
    "from keras.layers import Flatten\n",
    "from keras.layers import Dense\n",
    "\n",
    "classifier = Sequential()\n",
    "classifier.add(Convolution2D(32, 3, 3, input_shape = (32, 32, 3), activation = 'relu'))\n",
    "classifier.add(MaxPooling2D(pool_size=(2, 2)))\n",
    "classifier.add(Flatten())\n",
    "classifier.add(Dense(output_dim = 128, activation = 'relu'))\n",
    "classifier.add(Dense(output_dim = 1, activation = 'sigmoid'))\n",
    "\n",
    "classifier.compile(optimizer = 'adam', loss = 'binary_crossentropy', metrics = ['accuracy'])"
   ]
  },
  {
   "cell_type": "code",
   "execution_count": null,
   "metadata": {},
   "outputs": [],
   "source": []
  },
  {
   "cell_type": "code",
   "execution_count": 8,
   "metadata": {},
   "outputs": [
    {
     "name": "stdout",
     "output_type": "stream",
     "text": [
      "Epoch 1/25\n",
      "1000/1000 [==============================] - 2419s 2s/step - loss: 0.5471 - accuracy: 0.7218 - val_loss: 0.2793 - val_accuracy: 0.7551\n",
      "Epoch 2/25\n",
      "1000/1000 [==============================] - 2610s 3s/step - loss: 0.4232 - accuracy: 0.8015 - val_loss: 2.6688 - val_accuracy: 0.8163\n",
      "Epoch 3/25\n",
      "1000/1000 [==============================] - 2424s 2s/step - loss: 0.3657 - accuracy: 0.8286 - val_loss: 0.6692 - val_accuracy: 0.7959\n",
      "Epoch 4/25\n",
      "1000/1000 [==============================] - 2448s 2s/step - loss: 0.3240 - accuracy: 0.8528 - val_loss: 0.1193 - val_accuracy: 0.7857\n",
      "Epoch 5/25\n",
      "1000/1000 [==============================] - 2393s 2s/step - loss: 0.2811 - accuracy: 0.8751 - val_loss: 0.0014 - val_accuracy: 0.8163\n",
      "Epoch 6/25\n",
      "1000/1000 [==============================] - 2307s 2s/step - loss: 0.2706 - accuracy: 0.8854 - val_loss: 0.0043 - val_accuracy: 0.8061\n",
      "Epoch 7/25\n",
      "1000/1000 [==============================] - 2322s 2s/step - loss: 0.2227 - accuracy: 0.9032 - val_loss: 4.2989 - val_accuracy: 0.8061\n",
      "Epoch 8/25\n",
      "1000/1000 [==============================] - 2344s 2s/step - loss: 0.1990 - accuracy: 0.9164 - val_loss: 1.5409 - val_accuracy: 0.7959\n",
      "Epoch 9/25\n",
      "1000/1000 [==============================] - 2403s 2s/step - loss: 0.1626 - accuracy: 0.9346 - val_loss: 0.3459 - val_accuracy: 0.7959\n",
      "Epoch 10/25\n",
      "1000/1000 [==============================] - 2458s 2s/step - loss: 0.1790 - accuracy: 0.9270 - val_loss: 0.1395 - val_accuracy: 0.7755\n",
      "Epoch 11/25\n",
      "1000/1000 [==============================] - 2320s 2s/step - loss: 0.1326 - accuracy: 0.9478 - val_loss: 0.0014 - val_accuracy: 0.7959\n",
      "Epoch 12/25\n",
      "1000/1000 [==============================] - 2317s 2s/step - loss: 0.1094 - accuracy: 0.9595 - val_loss: 6.3819 - val_accuracy: 0.7857\n",
      "Epoch 13/25\n",
      "1000/1000 [==============================] - 2319s 2s/step - loss: 0.1051 - accuracy: 0.9611 - val_loss: 2.8492 - val_accuracy: 0.7653\n",
      "Epoch 14/25\n",
      "1000/1000 [==============================] - 2306s 2s/step - loss: 0.0862 - accuracy: 0.9678 - val_loss: 4.9615e-07 - val_accuracy: 0.7755\n",
      "Epoch 15/25\n",
      "1000/1000 [==============================] - 2316s 2s/step - loss: 0.0765 - accuracy: 0.9710 - val_loss: 4.1631 - val_accuracy: 0.8061\n",
      "Epoch 16/25\n",
      "1000/1000 [==============================] - 2307s 2s/step - loss: 0.0705 - accuracy: 0.9768 - val_loss: 1.1080e-08 - val_accuracy: 0.7857\n",
      "Epoch 17/25\n",
      "1000/1000 [==============================] - 2311s 2s/step - loss: 0.0625 - accuracy: 0.9793 - val_loss: 1.3542 - val_accuracy: 0.7755\n",
      "Epoch 18/25\n",
      "1000/1000 [==============================] - 2322s 2s/step - loss: 0.0573 - accuracy: 0.9806 - val_loss: 0.0196 - val_accuracy: 0.7551\n",
      "Epoch 19/25\n",
      "1000/1000 [==============================] - 2407s 2s/step - loss: 0.0506 - accuracy: 0.9826 - val_loss: 8.0713e-05 - val_accuracy: 0.7653\n",
      "Epoch 20/25\n",
      "1000/1000 [==============================] - 2464s 2s/step - loss: 0.0489 - accuracy: 0.9862 - val_loss: 0.2422 - val_accuracy: 0.8163\n",
      "Epoch 21/25\n",
      "1000/1000 [==============================] - 2363s 2s/step - loss: 0.0479 - accuracy: 0.9844 - val_loss: 2.3569e-07 - val_accuracy: 0.7449\n",
      "Epoch 22/25\n",
      "1000/1000 [==============================] - 2304s 2s/step - loss: 0.0480 - accuracy: 0.9819 - val_loss: 1.0866e-06 - val_accuracy: 0.7653\n",
      "Epoch 23/25\n",
      "1000/1000 [==============================] - 2314s 2s/step - loss: 0.0364 - accuracy: 0.9878 - val_loss: 4.3020e-06 - val_accuracy: 0.7857\n",
      "Epoch 24/25\n",
      "1000/1000 [==============================] - 2311s 2s/step - loss: 0.0301 - accuracy: 0.9908 - val_loss: 3.9851 - val_accuracy: 0.7653\n",
      "Epoch 25/25\n",
      "1000/1000 [==============================] - 2390s 2s/step - loss: 0.0325 - accuracy: 0.9892 - val_loss: 8.1844e-10 - val_accuracy: 0.7755\n"
     ]
    },
    {
     "data": {
      "text/plain": [
       "<keras.callbacks.callbacks.History at 0x1388fdb90>"
      ]
     },
     "execution_count": 8,
     "metadata": {},
     "output_type": "execute_result"
    }
   ],
   "source": [
    "classifier.fit_generator(training_set, steps_per_epoch=1000, epochs=25, validation_data= test_set, validation_steps=400)"
   ]
  },
  {
   "cell_type": "code",
   "execution_count": 9,
   "metadata": {},
   "outputs": [],
   "source": [
    "classifier.save('model.h5')"
   ]
  }
 ],
 "metadata": {
  "kernelspec": {
   "display_name": "Python 3",
   "language": "python",
   "name": "python3"
  },
  "language_info": {
   "codemirror_mode": {
    "name": "ipython",
    "version": 3
   },
   "file_extension": ".py",
   "mimetype": "text/x-python",
   "name": "python",
   "nbconvert_exporter": "python",
   "pygments_lexer": "ipython3",
   "version": "3.7.4"
  }
 },
 "nbformat": 4,
 "nbformat_minor": 2
}
